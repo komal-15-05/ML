{
 "cells": [
  {
   "cell_type": "code",
   "execution_count": null,
   "id": "8add8f80",
   "metadata": {},
   "outputs": [
    {
     "ename": "",
     "evalue": "",
     "output_type": "error",
     "traceback": [
      "\u001b[1;31mRunning cells with 'venv (Python 3.10.11)' requires the ipykernel package.\n",
      "\u001b[1;31mInstall 'ipykernel' into the Python environment. \n",
      "\u001b[1;31mCommand: 'c:/Users/komal/OneDrive/Desktop/ML/venv/bin/python.exe -m pip install ipykernel -U --force-reinstall'"
     ]
    }
   ],
   "source": [
    "# pip install openai"
   ]
  },
  {
   "cell_type": "code",
   "execution_count": null,
   "id": "e74c7d0d",
   "metadata": {},
   "outputs": [],
   "source": [
    "#pip install langchain\n"
   ]
  },
  {
   "cell_type": "code",
   "execution_count": null,
   "id": "eb72d461",
   "metadata": {},
   "outputs": [],
   "source": [
    "#pip install langchain cummunity"
   ]
  },
  {
   "cell_type": "code",
   "execution_count": null,
   "id": "60b2bd9a",
   "metadata": {},
   "outputs": [],
   "source": [
    "#pip install langchain_groq"
   ]
  },
  {
   "cell_type": "code",
   "execution_count": null,
   "id": "c2236e07",
   "metadata": {},
   "outputs": [],
   "source": [
    "#%pip install langchain-community\n",
    "\n",
    "from langchain.chat_models import ChatOpenAI\n",
    "from langchain.schema import HumanMessage"
   ]
  },
  {
   "cell_type": "code",
   "execution_count": null,
   "id": "26244047",
   "metadata": {},
   "outputs": [],
   "source": [
    "llm = ChatOpenAI(\n",
    "    model=\"llama-3.1-8b-instant\", \n",
    "    temperature=1, \n",
    "    openai_api_key=\"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\",\n",
    "    openai_api_base=\"https://api.groq.com/openai/v1\"\n",
    ")"
   ]
  },
  {
   "cell_type": "code",
   "execution_count": null,
   "id": "414de98a",
   "metadata": {},
   "outputs": [],
   "source": [
    "p = input(\"Enter your prompt: \")\n",
    "response = llm.predict_messages([HumanMessage(content=p)])\n",
    "print(response.content)"
   ]
  },
  {
   "cell_type": "code",
   "execution_count": null,
   "id": "78a8bff7",
   "metadata": {},
   "outputs": [],
   "source": []
  }
 ],
 "metadata": {
  "kernelspec": {
   "display_name": "venv",
   "language": "python",
   "name": "python3"
  },
  "language_info": {
   "codemirror_mode": {
    "name": "ipython",
    "version": 3
   },
   "file_extension": ".py",
   "mimetype": "text/x-python",
   "name": "python",
   "nbconvert_exporter": "python",
   "pygments_lexer": "ipython3",
   "version": "3.10.11"
  }
 },
 "nbformat": 4,
 "nbformat_minor": 5
}
