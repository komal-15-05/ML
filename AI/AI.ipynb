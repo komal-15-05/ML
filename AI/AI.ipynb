{
 "cells": [
  {
   "cell_type": "code",
   "execution_count": null,
   "id": "8add8f80",
   "metadata": {},
   "outputs": [],
   "source": [
    "pip install openai"
   ]
  },
  {
   "cell_type": "code",
   "execution_count": 5,
   "id": "e74c7d0d",
   "metadata": {},
   "outputs": [
    {
     "name": "stdout",
     "output_type": "stream",
     "text": [
      "Requirement already satisfied: langchain in c:\\users\\komal\\onedrive\\desktop\\ml\\.venv\\lib\\site-packages (0.3.26)\n",
      "Requirement already satisfied: langchain-core<1.0.0,>=0.3.66 in c:\\users\\komal\\onedrive\\desktop\\ml\\.venv\\lib\\site-packages (from langchain) (0.3.68)\n",
      "Requirement already satisfied: langchain-text-splitters<1.0.0,>=0.3.8 in c:\\users\\komal\\onedrive\\desktop\\ml\\.venv\\lib\\site-packages (from langchain) (0.3.8)\n",
      "Requirement already satisfied: langsmith>=0.1.17 in c:\\users\\komal\\onedrive\\desktop\\ml\\.venv\\lib\\site-packages (from langchain) (0.4.5)\n",
      "Requirement already satisfied: pydantic<3.0.0,>=2.7.4 in c:\\users\\komal\\onedrive\\desktop\\ml\\.venv\\lib\\site-packages (from langchain) (2.11.7)\n",
      "Requirement already satisfied: SQLAlchemy<3,>=1.4 in c:\\users\\komal\\onedrive\\desktop\\ml\\.venv\\lib\\site-packages (from langchain) (2.0.41)\n",
      "Requirement already satisfied: requests<3,>=2 in c:\\users\\komal\\onedrive\\desktop\\ml\\.venv\\lib\\site-packages (from langchain) (2.32.4)\n",
      "Requirement already satisfied: PyYAML>=5.3 in c:\\users\\komal\\onedrive\\desktop\\ml\\.venv\\lib\\site-packages (from langchain) (6.0.2)\n",
      "Requirement already satisfied: tenacity!=8.4.0,<10.0.0,>=8.1.0 in c:\\users\\komal\\onedrive\\desktop\\ml\\.venv\\lib\\site-packages (from langchain-core<1.0.0,>=0.3.66->langchain) (9.1.2)\n",
      "Requirement already satisfied: jsonpatch<2.0,>=1.33 in c:\\users\\komal\\onedrive\\desktop\\ml\\.venv\\lib\\site-packages (from langchain-core<1.0.0,>=0.3.66->langchain) (1.33)\n",
      "Requirement already satisfied: packaging<25,>=23.2 in c:\\users\\komal\\onedrive\\desktop\\ml\\.venv\\lib\\site-packages (from langchain-core<1.0.0,>=0.3.66->langchain) (24.2)\n",
      "Requirement already satisfied: typing-extensions>=4.7 in c:\\users\\komal\\onedrive\\desktop\\ml\\.venv\\lib\\site-packages (from langchain-core<1.0.0,>=0.3.66->langchain) (4.14.1)\n",
      "Requirement already satisfied: jsonpointer>=1.9 in c:\\users\\komal\\onedrive\\desktop\\ml\\.venv\\lib\\site-packages (from jsonpatch<2.0,>=1.33->langchain-core<1.0.0,>=0.3.66->langchain) (3.0.0)\n",
      "Requirement already satisfied: annotated-types>=0.6.0 in c:\\users\\komal\\onedrive\\desktop\\ml\\.venv\\lib\\site-packages (from pydantic<3.0.0,>=2.7.4->langchain) (0.7.0)\n",
      "Requirement already satisfied: pydantic-core==2.33.2 in c:\\users\\komal\\onedrive\\desktop\\ml\\.venv\\lib\\site-packages (from pydantic<3.0.0,>=2.7.4->langchain) (2.33.2)\n",
      "Requirement already satisfied: typing-inspection>=0.4.0 in c:\\users\\komal\\onedrive\\desktop\\ml\\.venv\\lib\\site-packages (from pydantic<3.0.0,>=2.7.4->langchain) (0.4.1)\n",
      "Requirement already satisfied: charset_normalizer<4,>=2 in c:\\users\\komal\\onedrive\\desktop\\ml\\.venv\\lib\\site-packages (from requests<3,>=2->langchain) (3.4.2)\n",
      "Requirement already satisfied: idna<4,>=2.5 in c:\\users\\komal\\onedrive\\desktop\\ml\\.venv\\lib\\site-packages (from requests<3,>=2->langchain) (3.10)\n",
      "Requirement already satisfied: urllib3<3,>=1.21.1 in c:\\users\\komal\\onedrive\\desktop\\ml\\.venv\\lib\\site-packages (from requests<3,>=2->langchain) (2.5.0)\n",
      "Requirement already satisfied: certifi>=2017.4.17 in c:\\users\\komal\\onedrive\\desktop\\ml\\.venv\\lib\\site-packages (from requests<3,>=2->langchain) (2025.7.9)\n",
      "Requirement already satisfied: greenlet>=1 in c:\\users\\komal\\onedrive\\desktop\\ml\\.venv\\lib\\site-packages (from SQLAlchemy<3,>=1.4->langchain) (3.2.3)\n",
      "Requirement already satisfied: httpx<1,>=0.23.0 in c:\\users\\komal\\onedrive\\desktop\\ml\\.venv\\lib\\site-packages (from langsmith>=0.1.17->langchain) (0.28.1)\n",
      "Requirement already satisfied: orjson<4.0.0,>=3.9.14 in c:\\users\\komal\\onedrive\\desktop\\ml\\.venv\\lib\\site-packages (from langsmith>=0.1.17->langchain) (3.10.18)\n",
      "Requirement already satisfied: requests-toolbelt<2.0.0,>=1.0.0 in c:\\users\\komal\\onedrive\\desktop\\ml\\.venv\\lib\\site-packages (from langsmith>=0.1.17->langchain) (1.0.0)\n",
      "Requirement already satisfied: zstandard<0.24.0,>=0.23.0 in c:\\users\\komal\\onedrive\\desktop\\ml\\.venv\\lib\\site-packages (from langsmith>=0.1.17->langchain) (0.23.0)\n",
      "Requirement already satisfied: anyio in c:\\users\\komal\\onedrive\\desktop\\ml\\.venv\\lib\\site-packages (from httpx<1,>=0.23.0->langsmith>=0.1.17->langchain) (4.9.0)\n",
      "Requirement already satisfied: httpcore==1.* in c:\\users\\komal\\onedrive\\desktop\\ml\\.venv\\lib\\site-packages (from httpx<1,>=0.23.0->langsmith>=0.1.17->langchain) (1.0.9)\n",
      "Requirement already satisfied: h11>=0.16 in c:\\users\\komal\\onedrive\\desktop\\ml\\.venv\\lib\\site-packages (from httpcore==1.*->httpx<1,>=0.23.0->langsmith>=0.1.17->langchain) (0.16.0)\n",
      "Requirement already satisfied: sniffio>=1.1 in c:\\users\\komal\\onedrive\\desktop\\ml\\.venv\\lib\\site-packages (from anyio->httpx<1,>=0.23.0->langsmith>=0.1.17->langchain) (1.3.1)\n",
      "Note: you may need to restart the kernel to use updated packages.\n"
     ]
    }
   ],
   "source": [
    "pip install langchain\n"
   ]
  },
  {
   "cell_type": "code",
   "execution_count": 7,
   "id": "eb72d461",
   "metadata": {},
   "outputs": [
    {
     "name": "stdout",
     "output_type": "stream",
     "text": [
      "Requirement already satisfied: langchain in c:\\users\\komal\\onedrive\\desktop\\ml\\.venv\\lib\\site-packages (0.3.26)\n",
      "Note: you may need to restart the kernel to use updated packages.\n"
     ]
    },
    {
     "name": "stderr",
     "output_type": "stream",
     "text": [
      "ERROR: Could not find a version that satisfies the requirement cummunity (from versions: none)\n",
      "ERROR: No matching distribution found for cummunity\n"
     ]
    }
   ],
   "source": [
    "pip install langchain cummunity"
   ]
  },
  {
   "cell_type": "code",
   "execution_count": 8,
   "id": "60b2bd9a",
   "metadata": {},
   "outputs": [
    {
     "name": "stdout",
     "output_type": "stream",
     "text": [
      "Requirement already satisfied: langchain_groq in c:\\users\\komal\\onedrive\\desktop\\ml\\.venv\\lib\\site-packages (0.3.6)\n",
      "Requirement already satisfied: langchain-core<1.0.0,>=0.3.68 in c:\\users\\komal\\onedrive\\desktop\\ml\\.venv\\lib\\site-packages (from langchain_groq) (0.3.68)\n",
      "Requirement already satisfied: groq<1,>=0.29.0 in c:\\users\\komal\\onedrive\\desktop\\ml\\.venv\\lib\\site-packages (from langchain_groq) (0.30.0)\n",
      "Requirement already satisfied: anyio<5,>=3.5.0 in c:\\users\\komal\\onedrive\\desktop\\ml\\.venv\\lib\\site-packages (from groq<1,>=0.29.0->langchain_groq) (4.9.0)\n",
      "Requirement already satisfied: distro<2,>=1.7.0 in c:\\users\\komal\\onedrive\\desktop\\ml\\.venv\\lib\\site-packages (from groq<1,>=0.29.0->langchain_groq) (1.9.0)\n",
      "Requirement already satisfied: httpx<1,>=0.23.0 in c:\\users\\komal\\onedrive\\desktop\\ml\\.venv\\lib\\site-packages (from groq<1,>=0.29.0->langchain_groq) (0.28.1)\n",
      "Requirement already satisfied: pydantic<3,>=1.9.0 in c:\\users\\komal\\onedrive\\desktop\\ml\\.venv\\lib\\site-packages (from groq<1,>=0.29.0->langchain_groq) (2.11.7)\n",
      "Requirement already satisfied: sniffio in c:\\users\\komal\\onedrive\\desktop\\ml\\.venv\\lib\\site-packages (from groq<1,>=0.29.0->langchain_groq) (1.3.1)\n",
      "Requirement already satisfied: typing-extensions<5,>=4.10 in c:\\users\\komal\\onedrive\\desktop\\ml\\.venv\\lib\\site-packages (from groq<1,>=0.29.0->langchain_groq) (4.14.1)\n",
      "Requirement already satisfied: idna>=2.8 in c:\\users\\komal\\onedrive\\desktop\\ml\\.venv\\lib\\site-packages (from anyio<5,>=3.5.0->groq<1,>=0.29.0->langchain_groq) (3.10)\n",
      "Requirement already satisfied: certifi in c:\\users\\komal\\onedrive\\desktop\\ml\\.venv\\lib\\site-packages (from httpx<1,>=0.23.0->groq<1,>=0.29.0->langchain_groq) (2025.7.9)\n",
      "Requirement already satisfied: httpcore==1.* in c:\\users\\komal\\onedrive\\desktop\\ml\\.venv\\lib\\site-packages (from httpx<1,>=0.23.0->groq<1,>=0.29.0->langchain_groq) (1.0.9)\n",
      "Requirement already satisfied: h11>=0.16 in c:\\users\\komal\\onedrive\\desktop\\ml\\.venv\\lib\\site-packages (from httpcore==1.*->httpx<1,>=0.23.0->groq<1,>=0.29.0->langchain_groq) (0.16.0)\n",
      "Requirement already satisfied: langsmith>=0.3.45 in c:\\users\\komal\\onedrive\\desktop\\ml\\.venv\\lib\\site-packages (from langchain-core<1.0.0,>=0.3.68->langchain_groq) (0.4.5)\n",
      "Requirement already satisfied: tenacity!=8.4.0,<10.0.0,>=8.1.0 in c:\\users\\komal\\onedrive\\desktop\\ml\\.venv\\lib\\site-packages (from langchain-core<1.0.0,>=0.3.68->langchain_groq) (9.1.2)\n",
      "Requirement already satisfied: jsonpatch<2.0,>=1.33 in c:\\users\\komal\\onedrive\\desktop\\ml\\.venv\\lib\\site-packages (from langchain-core<1.0.0,>=0.3.68->langchain_groq) (1.33)\n",
      "Requirement already satisfied: PyYAML>=5.3 in c:\\users\\komal\\onedrive\\desktop\\ml\\.venv\\lib\\site-packages (from langchain-core<1.0.0,>=0.3.68->langchain_groq) (6.0.2)\n",
      "Requirement already satisfied: packaging<25,>=23.2 in c:\\users\\komal\\onedrive\\desktop\\ml\\.venv\\lib\\site-packages (from langchain-core<1.0.0,>=0.3.68->langchain_groq) (24.2)\n",
      "Requirement already satisfied: jsonpointer>=1.9 in c:\\users\\komal\\onedrive\\desktop\\ml\\.venv\\lib\\site-packages (from jsonpatch<2.0,>=1.33->langchain-core<1.0.0,>=0.3.68->langchain_groq) (3.0.0)\n",
      "Requirement already satisfied: annotated-types>=0.6.0 in c:\\users\\komal\\onedrive\\desktop\\ml\\.venv\\lib\\site-packages (from pydantic<3,>=1.9.0->groq<1,>=0.29.0->langchain_groq) (0.7.0)\n",
      "Requirement already satisfied: pydantic-core==2.33.2 in c:\\users\\komal\\onedrive\\desktop\\ml\\.venv\\lib\\site-packages (from pydantic<3,>=1.9.0->groq<1,>=0.29.0->langchain_groq) (2.33.2)\n",
      "Requirement already satisfied: typing-inspection>=0.4.0 in c:\\users\\komal\\onedrive\\desktop\\ml\\.venv\\lib\\site-packages (from pydantic<3,>=1.9.0->groq<1,>=0.29.0->langchain_groq) (0.4.1)\n",
      "Requirement already satisfied: orjson<4.0.0,>=3.9.14 in c:\\users\\komal\\onedrive\\desktop\\ml\\.venv\\lib\\site-packages (from langsmith>=0.3.45->langchain-core<1.0.0,>=0.3.68->langchain_groq) (3.10.18)\n",
      "Requirement already satisfied: requests<3,>=2 in c:\\users\\komal\\onedrive\\desktop\\ml\\.venv\\lib\\site-packages (from langsmith>=0.3.45->langchain-core<1.0.0,>=0.3.68->langchain_groq) (2.32.4)\n",
      "Requirement already satisfied: requests-toolbelt<2.0.0,>=1.0.0 in c:\\users\\komal\\onedrive\\desktop\\ml\\.venv\\lib\\site-packages (from langsmith>=0.3.45->langchain-core<1.0.0,>=0.3.68->langchain_groq) (1.0.0)\n",
      "Requirement already satisfied: zstandard<0.24.0,>=0.23.0 in c:\\users\\komal\\onedrive\\desktop\\ml\\.venv\\lib\\site-packages (from langsmith>=0.3.45->langchain-core<1.0.0,>=0.3.68->langchain_groq) (0.23.0)\n",
      "Requirement already satisfied: charset_normalizer<4,>=2 in c:\\users\\komal\\onedrive\\desktop\\ml\\.venv\\lib\\site-packages (from requests<3,>=2->langsmith>=0.3.45->langchain-core<1.0.0,>=0.3.68->langchain_groq) (3.4.2)\n",
      "Requirement already satisfied: urllib3<3,>=1.21.1 in c:\\users\\komal\\onedrive\\desktop\\ml\\.venv\\lib\\site-packages (from requests<3,>=2->langsmith>=0.3.45->langchain-core<1.0.0,>=0.3.68->langchain_groq) (2.5.0)\n",
      "Note: you may need to restart the kernel to use updated packages.\n"
     ]
    }
   ],
   "source": [
    "pip install langchain_groq"
   ]
  },
  {
   "cell_type": "code",
   "execution_count": 10,
   "id": "c2236e07",
   "metadata": {},
   "outputs": [
    {
     "name": "stdout",
     "output_type": "stream",
     "text": [
      "Collecting langchain-community\n",
      "  Downloading langchain_community-0.3.27-py3-none-any.whl.metadata (2.9 kB)\n",
      "Requirement already satisfied: langchain-core<1.0.0,>=0.3.66 in c:\\users\\komal\\onedrive\\desktop\\ml\\.venv\\lib\\site-packages (from langchain-community) (0.3.68)\n",
      "Requirement already satisfied: langchain<1.0.0,>=0.3.26 in c:\\users\\komal\\onedrive\\desktop\\ml\\.venv\\lib\\site-packages (from langchain-community) (0.3.26)\n",
      "Requirement already satisfied: SQLAlchemy<3,>=1.4 in c:\\users\\komal\\onedrive\\desktop\\ml\\.venv\\lib\\site-packages (from langchain-community) (2.0.41)\n",
      "Requirement already satisfied: requests<3,>=2 in c:\\users\\komal\\onedrive\\desktop\\ml\\.venv\\lib\\site-packages (from langchain-community) (2.32.4)\n",
      "Requirement already satisfied: PyYAML>=5.3 in c:\\users\\komal\\onedrive\\desktop\\ml\\.venv\\lib\\site-packages (from langchain-community) (6.0.2)\n",
      "Collecting aiohttp<4.0.0,>=3.8.3 (from langchain-community)\n",
      "  Downloading aiohttp-3.12.14-cp312-cp312-win_amd64.whl.metadata (7.9 kB)\n",
      "Requirement already satisfied: tenacity!=8.4.0,<10,>=8.1.0 in c:\\users\\komal\\onedrive\\desktop\\ml\\.venv\\lib\\site-packages (from langchain-community) (9.1.2)\n",
      "Collecting dataclasses-json<0.7,>=0.5.7 (from langchain-community)\n",
      "  Downloading dataclasses_json-0.6.7-py3-none-any.whl.metadata (25 kB)\n",
      "Collecting pydantic-settings<3.0.0,>=2.4.0 (from langchain-community)\n",
      "  Downloading pydantic_settings-2.10.1-py3-none-any.whl.metadata (3.4 kB)\n",
      "Requirement already satisfied: langsmith>=0.1.125 in c:\\users\\komal\\onedrive\\desktop\\ml\\.venv\\lib\\site-packages (from langchain-community) (0.4.5)\n",
      "Collecting httpx-sse<1.0.0,>=0.4.0 (from langchain-community)\n",
      "  Downloading httpx_sse-0.4.1-py3-none-any.whl.metadata (9.4 kB)\n",
      "Requirement already satisfied: numpy>=1.26.2 in c:\\users\\komal\\onedrive\\desktop\\ml\\.venv\\lib\\site-packages (from langchain-community) (2.3.1)\n",
      "Collecting aiohappyeyeballs>=2.5.0 (from aiohttp<4.0.0,>=3.8.3->langchain-community)\n",
      "  Downloading aiohappyeyeballs-2.6.1-py3-none-any.whl.metadata (5.9 kB)\n",
      "Collecting aiosignal>=1.4.0 (from aiohttp<4.0.0,>=3.8.3->langchain-community)\n",
      "  Downloading aiosignal-1.4.0-py3-none-any.whl.metadata (3.7 kB)\n",
      "Requirement already satisfied: attrs>=17.3.0 in c:\\users\\komal\\onedrive\\desktop\\ml\\.venv\\lib\\site-packages (from aiohttp<4.0.0,>=3.8.3->langchain-community) (25.3.0)\n",
      "Collecting frozenlist>=1.1.1 (from aiohttp<4.0.0,>=3.8.3->langchain-community)\n",
      "  Downloading frozenlist-1.7.0-cp312-cp312-win_amd64.whl.metadata (19 kB)\n",
      "Collecting multidict<7.0,>=4.5 (from aiohttp<4.0.0,>=3.8.3->langchain-community)\n",
      "  Downloading multidict-6.6.3-cp312-cp312-win_amd64.whl.metadata (5.4 kB)\n",
      "Collecting propcache>=0.2.0 (from aiohttp<4.0.0,>=3.8.3->langchain-community)\n",
      "  Downloading propcache-0.3.2-cp312-cp312-win_amd64.whl.metadata (12 kB)\n",
      "Collecting yarl<2.0,>=1.17.0 (from aiohttp<4.0.0,>=3.8.3->langchain-community)\n",
      "  Downloading yarl-1.20.1-cp312-cp312-win_amd64.whl.metadata (76 kB)\n",
      "Collecting marshmallow<4.0.0,>=3.18.0 (from dataclasses-json<0.7,>=0.5.7->langchain-community)\n",
      "  Downloading marshmallow-3.26.1-py3-none-any.whl.metadata (7.3 kB)\n",
      "Collecting typing-inspect<1,>=0.4.0 (from dataclasses-json<0.7,>=0.5.7->langchain-community)\n",
      "  Downloading typing_inspect-0.9.0-py3-none-any.whl.metadata (1.5 kB)\n",
      "Requirement already satisfied: langchain-text-splitters<1.0.0,>=0.3.8 in c:\\users\\komal\\onedrive\\desktop\\ml\\.venv\\lib\\site-packages (from langchain<1.0.0,>=0.3.26->langchain-community) (0.3.8)\n",
      "Requirement already satisfied: pydantic<3.0.0,>=2.7.4 in c:\\users\\komal\\onedrive\\desktop\\ml\\.venv\\lib\\site-packages (from langchain<1.0.0,>=0.3.26->langchain-community) (2.11.7)\n",
      "Requirement already satisfied: jsonpatch<2.0,>=1.33 in c:\\users\\komal\\onedrive\\desktop\\ml\\.venv\\lib\\site-packages (from langchain-core<1.0.0,>=0.3.66->langchain-community) (1.33)\n",
      "Requirement already satisfied: packaging<25,>=23.2 in c:\\users\\komal\\onedrive\\desktop\\ml\\.venv\\lib\\site-packages (from langchain-core<1.0.0,>=0.3.66->langchain-community) (24.2)\n",
      "Requirement already satisfied: typing-extensions>=4.7 in c:\\users\\komal\\onedrive\\desktop\\ml\\.venv\\lib\\site-packages (from langchain-core<1.0.0,>=0.3.66->langchain-community) (4.14.1)\n",
      "Requirement already satisfied: jsonpointer>=1.9 in c:\\users\\komal\\onedrive\\desktop\\ml\\.venv\\lib\\site-packages (from jsonpatch<2.0,>=1.33->langchain-core<1.0.0,>=0.3.66->langchain-community) (3.0.0)\n",
      "Requirement already satisfied: annotated-types>=0.6.0 in c:\\users\\komal\\onedrive\\desktop\\ml\\.venv\\lib\\site-packages (from pydantic<3.0.0,>=2.7.4->langchain<1.0.0,>=0.3.26->langchain-community) (0.7.0)\n",
      "Requirement already satisfied: pydantic-core==2.33.2 in c:\\users\\komal\\onedrive\\desktop\\ml\\.venv\\lib\\site-packages (from pydantic<3.0.0,>=2.7.4->langchain<1.0.0,>=0.3.26->langchain-community) (2.33.2)\n",
      "Requirement already satisfied: typing-inspection>=0.4.0 in c:\\users\\komal\\onedrive\\desktop\\ml\\.venv\\lib\\site-packages (from pydantic<3.0.0,>=2.7.4->langchain<1.0.0,>=0.3.26->langchain-community) (0.4.1)\n",
      "Collecting python-dotenv>=0.21.0 (from pydantic-settings<3.0.0,>=2.4.0->langchain-community)\n",
      "  Downloading python_dotenv-1.1.1-py3-none-any.whl.metadata (24 kB)\n",
      "Requirement already satisfied: charset_normalizer<4,>=2 in c:\\users\\komal\\onedrive\\desktop\\ml\\.venv\\lib\\site-packages (from requests<3,>=2->langchain-community) (3.4.2)\n",
      "Requirement already satisfied: idna<4,>=2.5 in c:\\users\\komal\\onedrive\\desktop\\ml\\.venv\\lib\\site-packages (from requests<3,>=2->langchain-community) (3.10)\n",
      "Requirement already satisfied: urllib3<3,>=1.21.1 in c:\\users\\komal\\onedrive\\desktop\\ml\\.venv\\lib\\site-packages (from requests<3,>=2->langchain-community) (2.5.0)\n",
      "Requirement already satisfied: certifi>=2017.4.17 in c:\\users\\komal\\onedrive\\desktop\\ml\\.venv\\lib\\site-packages (from requests<3,>=2->langchain-community) (2025.7.9)\n",
      "Requirement already satisfied: greenlet>=1 in c:\\users\\komal\\onedrive\\desktop\\ml\\.venv\\lib\\site-packages (from SQLAlchemy<3,>=1.4->langchain-community) (3.2.3)\n",
      "Collecting mypy-extensions>=0.3.0 (from typing-inspect<1,>=0.4.0->dataclasses-json<0.7,>=0.5.7->langchain-community)\n",
      "  Downloading mypy_extensions-1.1.0-py3-none-any.whl.metadata (1.1 kB)\n",
      "Requirement already satisfied: httpx<1,>=0.23.0 in c:\\users\\komal\\onedrive\\desktop\\ml\\.venv\\lib\\site-packages (from langsmith>=0.1.125->langchain-community) (0.28.1)\n",
      "Requirement already satisfied: orjson<4.0.0,>=3.9.14 in c:\\users\\komal\\onedrive\\desktop\\ml\\.venv\\lib\\site-packages (from langsmith>=0.1.125->langchain-community) (3.10.18)\n",
      "Requirement already satisfied: requests-toolbelt<2.0.0,>=1.0.0 in c:\\users\\komal\\onedrive\\desktop\\ml\\.venv\\lib\\site-packages (from langsmith>=0.1.125->langchain-community) (1.0.0)\n",
      "Requirement already satisfied: zstandard<0.24.0,>=0.23.0 in c:\\users\\komal\\onedrive\\desktop\\ml\\.venv\\lib\\site-packages (from langsmith>=0.1.125->langchain-community) (0.23.0)\n",
      "Requirement already satisfied: anyio in c:\\users\\komal\\onedrive\\desktop\\ml\\.venv\\lib\\site-packages (from httpx<1,>=0.23.0->langsmith>=0.1.125->langchain-community) (4.9.0)\n",
      "Requirement already satisfied: httpcore==1.* in c:\\users\\komal\\onedrive\\desktop\\ml\\.venv\\lib\\site-packages (from httpx<1,>=0.23.0->langsmith>=0.1.125->langchain-community) (1.0.9)\n",
      "Requirement already satisfied: h11>=0.16 in c:\\users\\komal\\onedrive\\desktop\\ml\\.venv\\lib\\site-packages (from httpcore==1.*->httpx<1,>=0.23.0->langsmith>=0.1.125->langchain-community) (0.16.0)\n",
      "Requirement already satisfied: sniffio>=1.1 in c:\\users\\komal\\onedrive\\desktop\\ml\\.venv\\lib\\site-packages (from anyio->httpx<1,>=0.23.0->langsmith>=0.1.125->langchain-community) (1.3.1)\n",
      "Downloading langchain_community-0.3.27-py3-none-any.whl (2.5 MB)\n",
      "   ---------------------------------------- 0.0/2.5 MB ? eta -:--:--\n",
      "   ---------------------------------------- 2.5/2.5 MB 20.8 MB/s eta 0:00:00\n",
      "Downloading aiohttp-3.12.14-cp312-cp312-win_amd64.whl (449 kB)\n",
      "Downloading dataclasses_json-0.6.7-py3-none-any.whl (28 kB)\n",
      "Downloading httpx_sse-0.4.1-py3-none-any.whl (8.1 kB)\n",
      "Downloading marshmallow-3.26.1-py3-none-any.whl (50 kB)\n",
      "Downloading multidict-6.6.3-cp312-cp312-win_amd64.whl (45 kB)\n",
      "Downloading pydantic_settings-2.10.1-py3-none-any.whl (45 kB)\n",
      "Downloading typing_inspect-0.9.0-py3-none-any.whl (8.8 kB)\n",
      "Downloading yarl-1.20.1-cp312-cp312-win_amd64.whl (86 kB)\n",
      "Downloading aiohappyeyeballs-2.6.1-py3-none-any.whl (15 kB)\n",
      "Downloading aiosignal-1.4.0-py3-none-any.whl (7.5 kB)\n",
      "Downloading frozenlist-1.7.0-cp312-cp312-win_amd64.whl (43 kB)\n",
      "Downloading mypy_extensions-1.1.0-py3-none-any.whl (5.0 kB)\n",
      "Downloading propcache-0.3.2-cp312-cp312-win_amd64.whl (41 kB)\n",
      "Downloading python_dotenv-1.1.1-py3-none-any.whl (20 kB)\n",
      "Installing collected packages: python-dotenv, propcache, mypy-extensions, multidict, marshmallow, httpx-sse, frozenlist, aiohappyeyeballs, yarl, typing-inspect, aiosignal, pydantic-settings, dataclasses-json, aiohttp, langchain-community\n",
      "\n",
      "   ----------------------------------------  0/15 [python-dotenv]\n",
      "   ---------- -----------------------------  4/15 [marshmallow]\n",
      "   ------------- --------------------------  5/15 [httpx-sse]\n",
      "   --------------------- ------------------  8/15 [yarl]\n",
      "   ----------------------------- ---------- 11/15 [pydantic-settings]\n",
      "   ----------------------------- ---------- 11/15 [pydantic-settings]\n",
      "   -------------------------------- ------- 12/15 [dataclasses-json]\n",
      "   ---------------------------------- ----- 13/15 [aiohttp]\n",
      "   ---------------------------------- ----- 13/15 [aiohttp]\n",
      "   ---------------------------------- ----- 13/15 [aiohttp]\n",
      "   ---------------------------------- ----- 13/15 [aiohttp]\n",
      "   ---------------------------------- ----- 13/15 [aiohttp]\n",
      "   ---------------------------------- ----- 13/15 [aiohttp]\n",
      "   ------------------------------------- -- 14/15 [langchain-community]\n",
      "   ------------------------------------- -- 14/15 [langchain-community]\n",
      "   ------------------------------------- -- 14/15 [langchain-community]\n",
      "   ------------------------------------- -- 14/15 [langchain-community]\n",
      "   ------------------------------------- -- 14/15 [langchain-community]\n",
      "   ------------------------------------- -- 14/15 [langchain-community]\n",
      "   ------------------------------------- -- 14/15 [langchain-community]\n",
      "   ------------------------------------- -- 14/15 [langchain-community]\n",
      "   ------------------------------------- -- 14/15 [langchain-community]\n",
      "   ------------------------------------- -- 14/15 [langchain-community]\n",
      "   ------------------------------------- -- 14/15 [langchain-community]\n",
      "   ------------------------------------- -- 14/15 [langchain-community]\n",
      "   ------------------------------------- -- 14/15 [langchain-community]\n",
      "   ------------------------------------- -- 14/15 [langchain-community]\n",
      "   ------------------------------------- -- 14/15 [langchain-community]\n",
      "   ------------------------------------- -- 14/15 [langchain-community]\n",
      "   ------------------------------------- -- 14/15 [langchain-community]\n",
      "   ------------------------------------- -- 14/15 [langchain-community]\n",
      "   ------------------------------------- -- 14/15 [langchain-community]\n",
      "   ------------------------------------- -- 14/15 [langchain-community]\n",
      "   ------------------------------------- -- 14/15 [langchain-community]\n",
      "   ------------------------------------- -- 14/15 [langchain-community]\n",
      "   ------------------------------------- -- 14/15 [langchain-community]\n",
      "   ------------------------------------- -- 14/15 [langchain-community]\n",
      "   ------------------------------------- -- 14/15 [langchain-community]\n",
      "   ------------------------------------- -- 14/15 [langchain-community]\n",
      "   ------------------------------------- -- 14/15 [langchain-community]\n",
      "   ------------------------------------- -- 14/15 [langchain-community]\n",
      "   ------------------------------------- -- 14/15 [langchain-community]\n",
      "   ------------------------------------- -- 14/15 [langchain-community]\n",
      "   ------------------------------------- -- 14/15 [langchain-community]\n",
      "   ------------------------------------- -- 14/15 [langchain-community]\n",
      "   ------------------------------------- -- 14/15 [langchain-community]\n",
      "   ------------------------------------- -- 14/15 [langchain-community]\n",
      "   ------------------------------------- -- 14/15 [langchain-community]\n",
      "   ------------------------------------- -- 14/15 [langchain-community]\n",
      "   ------------------------------------- -- 14/15 [langchain-community]\n",
      "   ------------------------------------- -- 14/15 [langchain-community]\n",
      "   ------------------------------------- -- 14/15 [langchain-community]\n",
      "   ------------------------------------- -- 14/15 [langchain-community]\n",
      "   ------------------------------------- -- 14/15 [langchain-community]\n",
      "   ------------------------------------- -- 14/15 [langchain-community]\n",
      "   ------------------------------------- -- 14/15 [langchain-community]\n",
      "   ------------------------------------- -- 14/15 [langchain-community]\n",
      "   ------------------------------------- -- 14/15 [langchain-community]\n",
      "   ------------------------------------- -- 14/15 [langchain-community]\n",
      "   ------------------------------------- -- 14/15 [langchain-community]\n",
      "   ------------------------------------- -- 14/15 [langchain-community]\n",
      "   ------------------------------------- -- 14/15 [langchain-community]\n",
      "   ------------------------------------- -- 14/15 [langchain-community]\n",
      "   ------------------------------------- -- 14/15 [langchain-community]\n",
      "   ------------------------------------- -- 14/15 [langchain-community]\n",
      "   ------------------------------------- -- 14/15 [langchain-community]\n",
      "   ------------------------------------- -- 14/15 [langchain-community]\n",
      "   ------------------------------------- -- 14/15 [langchain-community]\n",
      "   ------------------------------------- -- 14/15 [langchain-community]\n",
      "   ------------------------------------- -- 14/15 [langchain-community]\n",
      "   ------------------------------------- -- 14/15 [langchain-community]\n",
      "   ------------------------------------- -- 14/15 [langchain-community]\n",
      "   ------------------------------------- -- 14/15 [langchain-community]\n",
      "   ------------------------------------- -- 14/15 [langchain-community]\n",
      "   ------------------------------------- -- 14/15 [langchain-community]\n",
      "   ------------------------------------- -- 14/15 [langchain-community]\n",
      "   ------------------------------------- -- 14/15 [langchain-community]\n",
      "   ------------------------------------- -- 14/15 [langchain-community]\n",
      "   ------------------------------------- -- 14/15 [langchain-community]\n",
      "   ------------------------------------- -- 14/15 [langchain-community]\n",
      "   ------------------------------------- -- 14/15 [langchain-community]\n",
      "   ------------------------------------- -- 14/15 [langchain-community]\n",
      "   ------------------------------------- -- 14/15 [langchain-community]\n",
      "   ------------------------------------- -- 14/15 [langchain-community]\n",
      "   ------------------------------------- -- 14/15 [langchain-community]\n",
      "   ------------------------------------- -- 14/15 [langchain-community]\n",
      "   ------------------------------------- -- 14/15 [langchain-community]\n",
      "   ------------------------------------- -- 14/15 [langchain-community]\n",
      "   ------------------------------------- -- 14/15 [langchain-community]\n",
      "   ------------------------------------- -- 14/15 [langchain-community]\n",
      "   ------------------------------------- -- 14/15 [langchain-community]\n",
      "   ------------------------------------- -- 14/15 [langchain-community]\n",
      "   ------------------------------------- -- 14/15 [langchain-community]\n",
      "   ------------------------------------- -- 14/15 [langchain-community]\n",
      "   ------------------------------------- -- 14/15 [langchain-community]\n",
      "   ------------------------------------- -- 14/15 [langchain-community]\n",
      "   ------------------------------------- -- 14/15 [langchain-community]\n",
      "   ------------------------------------- -- 14/15 [langchain-community]\n",
      "   ------------------------------------- -- 14/15 [langchain-community]\n",
      "   ------------------------------------- -- 14/15 [langchain-community]\n",
      "   ------------------------------------- -- 14/15 [langchain-community]\n",
      "   ------------------------------------- -- 14/15 [langchain-community]\n",
      "   ------------------------------------- -- 14/15 [langchain-community]\n",
      "   ------------------------------------- -- 14/15 [langchain-community]\n",
      "   ------------------------------------- -- 14/15 [langchain-community]\n",
      "   ------------------------------------- -- 14/15 [langchain-community]\n",
      "   ------------------------------------- -- 14/15 [langchain-community]\n",
      "   ------------------------------------- -- 14/15 [langchain-community]\n",
      "   ------------------------------------- -- 14/15 [langchain-community]\n",
      "   ------------------------------------- -- 14/15 [langchain-community]\n",
      "   ------------------------------------- -- 14/15 [langchain-community]\n",
      "   ------------------------------------- -- 14/15 [langchain-community]\n",
      "   ------------------------------------- -- 14/15 [langchain-community]\n",
      "   ------------------------------------- -- 14/15 [langchain-community]\n",
      "   ------------------------------------- -- 14/15 [langchain-community]\n",
      "   ---------------------------------------- 15/15 [langchain-community]\n",
      "\n",
      "Successfully installed aiohappyeyeballs-2.6.1 aiohttp-3.12.14 aiosignal-1.4.0 dataclasses-json-0.6.7 frozenlist-1.7.0 httpx-sse-0.4.1 langchain-community-0.3.27 marshmallow-3.26.1 multidict-6.6.3 mypy-extensions-1.1.0 propcache-0.3.2 pydantic-settings-2.10.1 python-dotenv-1.1.1 typing-inspect-0.9.0 yarl-1.20.1\n",
      "Note: you may need to restart the kernel to use updated packages.\n"
     ]
    }
   ],
   "source": [
    "%pip install langchain-community\n",
    "\n",
    "from langchain.chat_models import ChatOpenAI\n",
    "from langchain.schema import HumanMessage"
   ]
  },
  {
   "cell_type": "code",
   "execution_count": 13,
   "id": "26244047",
   "metadata": {},
   "outputs": [
    {
     "name": "stderr",
     "output_type": "stream",
     "text": [
      "C:\\Users\\komal\\AppData\\Local\\Temp\\ipykernel_16312\\2225976620.py:1: LangChainDeprecationWarning: The class `ChatOpenAI` was deprecated in LangChain 0.0.10 and will be removed in 1.0. An updated version of the class exists in the :class:`~langchain-openai package and should be used instead. To use it run `pip install -U :class:`~langchain-openai` and import as `from :class:`~langchain_openai import ChatOpenAI``.\n",
      "  llm = ChatOpenAI(\n"
     ]
    }
   ],
   "source": [
    "llm = ChatOpenAI(\n",
    "    model=\"llama-3.1-8b-instant\", \n",
    "    temperature=1, \n",
    "    openai_api_key=\"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\",\n",
    "    openai_api_base=\"https://api.groq.com/openai/v1\"\n",
    ")"
   ]
  },
  {
   "cell_type": "code",
   "execution_count": 14,
   "id": "414de98a",
   "metadata": {},
   "outputs": [
    {
     "name": "stderr",
     "output_type": "stream",
     "text": [
      "C:\\Users\\komal\\AppData\\Local\\Temp\\ipykernel_16312\\987349406.py:2: LangChainDeprecationWarning: The method `BaseChatModel.predict_messages` was deprecated in langchain-core 0.1.7 and will be removed in 1.0. Use :meth:`~invoke` instead.\n",
      "  response = llm.predict_messages([HumanMessage(content=p)])\n"
     ]
    },
    {
     "name": "stdout",
     "output_type": "stream",
     "text": [
      "Hello, how can I help you today?\n"
     ]
    }
   ],
   "source": [
    "p = input(\"Enter your prompt: \")\n",
    "response = llm.predict_messages([HumanMessage(content=p)])\n",
    "print(response.content)"
   ]
  },
  {
   "cell_type": "code",
   "execution_count": null,
   "id": "78a8bff7",
   "metadata": {},
   "outputs": [],
   "source": []
  }
 ],
 "metadata": {
  "kernelspec": {
   "display_name": ".venv",
   "language": "python",
   "name": "python3"
  },
  "language_info": {
   "codemirror_mode": {
    "name": "ipython",
    "version": 3
   },
   "file_extension": ".py",
   "mimetype": "text/x-python",
   "name": "python",
   "nbconvert_exporter": "python",
   "pygments_lexer": "ipython3",
   "version": "3.12.2"
  }
 },
 "nbformat": 4,
 "nbformat_minor": 5
}
