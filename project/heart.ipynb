{
 "cells": [
  {
   "cell_type": "code",
   "execution_count": null,
   "id": "cd89af0f",
   "metadata": {},
   "outputs": [],
   "source": [
    "\n",
    "import pandas as pd\n",
    "import numpy as np\n",
    "from sklearn.model_selection import train_test_split\n",
    "from sklearn.preprocessing import LabelEncoder, StandardScaler\n",
    "from sklearn.linear_model import LogisticRegression\n",
    "from sklearn.metrics import classification_report, confusion_matrix, accuracy_score\n",
    "import seaborn as sns\n",
    "import matplotlib.pyplot as plt\n"
   ]
  },
  {
   "cell_type": "code",
   "execution_count": null,
   "id": "27866c5d",
   "metadata": {},
   "outputs": [],
   "source": [
    "df = pd.read_csv(\"heart_attack_prediction_dataset.csv\")\n",
    "\n",
    "# Drop Patient ID (not useful for ML)\n",
    "df.drop(\"Patient ID\", axis=1, inplace=True)\n",
    "\n",
    "# Convert Blood Pressure \"120/80\" → systolic & diastolic\n",
    "bp_split = df[\"Blood Pressure\"].str.split(\"/\", expand=True)\n",
    "df[\"Systolic BP\"] = pd.to_numeric(bp_split[0], errors='coerce')\n",
    "df[\"Diastolic BP\"] = pd.to_numeric(bp_split[1], errors='coerce')\n",
    "df.drop(\"Blood Pressure\", axis=1, inplace=True)\n"
   ]
  },
  {
   "cell_type": "code",
   "execution_count": null,
   "id": "c977ec3e",
   "metadata": {},
   "outputs": [],
   "source": [
    "cat_cols = ['Sex', 'Diet', 'Country', 'Continent', 'Hemisphere']\n",
    "le = LabelEncoder()\n",
    "for col in cat_cols:\n",
    "    df[col] = le.fit_transform(df[col])\n",
    "df = df.dropna()  # or you can use df.fillna(method=\"ffill\") for forward fill\n"
   ]
  },
  {
   "cell_type": "code",
   "execution_count": null,
   "id": "a332e26f",
   "metadata": {},
   "outputs": [],
   "source": [
    "X = df.drop(\"Heart Attack Risk\", axis=1)\n",
    "y = df[\"Heart Attack Risk\"]\n",
    "\n",
    "X_train, X_test, y_train, y_test = train_test_split(X, y, test_size=0.2, random_state=42)\n"
   ]
  },
  {
   "cell_type": "code",
   "execution_count": null,
   "id": "8b75aefb",
   "metadata": {},
   "outputs": [],
   "source": [
    "scaler = StandardScaler()\n",
    "X_train = scaler.fit_transform(X_train)\n",
    "X_test = scaler.transform(X_test)\n"
   ]
  },
  {
   "cell_type": "code",
   "execution_count": null,
   "id": "ec29f701",
   "metadata": {},
   "outputs": [],
   "source": [
    "model = LogisticRegression()\n",
    "model.fit(X_train, y_train)\n",
    "y_pred = model.predict(X_test)\n"
   ]
  },
  {
   "cell_type": "code",
   "execution_count": null,
   "id": "3a7a78a1",
   "metadata": {},
   "outputs": [],
   "source": [
    "print(\"Accuracy:\", accuracy_score(y_test, y_pred))\n",
    "print(\"Confusion Matrix:\\n\", confusion_matrix(y_test, y_pred))\n",
    "print(\"Classification Report:\\n\", classification_report(y_test, y_pred))\n"
   ]
  },
  {
   "cell_type": "code",
   "execution_count": null,
   "id": "6055f874",
   "metadata": {},
   "outputs": [],
   "source": [
    "import matplotlib.pyplot as plt\n",
    "\n",
    "plt.figure(figsize=(6, 4))\n",
    "plt.hist(df[\"Heart Attack Risk\"], bins=6, color='salmon', edgecolor='black')\n",
    "plt.title(\"Heart Attack Risk Distribution\")\n",
    "plt.xlabel(\"Heart Attack Risk (0 = No, 1 = Yes)\")\n",
    "plt.ylabel(\"Number of Patients\")\n",
    "plt.grid(True)\n",
    "plt.show()\n"
   ]
  },
  {
   "cell_type": "code",
   "execution_count": null,
   "id": "37df8bb1",
   "metadata": {},
   "outputs": [],
   "source": [
    "plt.figure(figsize=(8, 4))\n",
    "plt.hist(df[\"Age\"], bins=30, color='skyblue', edgecolor='black')\n",
    "plt.title(\"Age Distribution\")\n",
    "plt.xlabel(\"Age\")\n",
    "plt.ylabel(\"Number of Patients\")\n",
    "plt.grid(True)\n",
    "plt.show()\n"
   ]
  },
  {
   "cell_type": "code",
   "execution_count": null,
   "id": "5cf576d2",
   "metadata": {},
   "outputs": [],
   "source": [
    "sex_group = df.groupby(\"Sex\")[\"Heart Attack Risk\"].value_counts().unstack()\n",
    "\n",
    "sex_group.plot(kind=\"bar\", stacked=True, color=['lightgreen', 'tomato'], figsize=(8,5))\n",
    "plt.title(\"Heart Attack Risk by Sex\")\n",
    "plt.xlabel(\"Sex\")\n",
    "plt.ylabel(\"Number of Patients\")\n",
    "plt.xticks(rotation=0)\n",
    "plt.legend([\"No Risk\", \"High Risk\"])\n",
    "plt.grid(axis=\"y\")\n",
    "plt.tight_layout()\n",
    "plt.show()\n"
   ]
  },
  {
   "cell_type": "code",
   "execution_count": null,
   "id": "3a4585c5",
   "metadata": {},
   "outputs": [],
   "source": [
    "colors = df[\"Heart Attack Risk\"].map({0: \"blue\", 1: \"red\"})\n",
    "\n",
    "plt.figure(figsize=(8, 5))\n",
    "plt.scatter(df[\"Age\"], df[\"Cholesterol\"], c=colors, alpha=0.6)\n",
    "plt.title(\"Age vs Cholesterol colored by Heart Attack Risk\")\n",
    "plt.xlabel(\"Age\")\n",
    "plt.ylabel(\"Cholesterol\")\n",
    "plt.grid(True)\n",
    "plt.show()\n"
   ]
  },
  {
   "cell_type": "code",
   "execution_count": null,
   "id": "3e489b34",
   "metadata": {},
   "outputs": [],
   "source": [
    "import seaborn as sns\n",
    "\n",
    "plt.figure(figsize=(16, 10))\n",
    "sns.heatmap(df.corr(numeric_only=True), annot=True, cmap=\"coolwarm\", fmt=\".2f\")\n",
    "plt.title(\"Correlation Heatmap\")\n",
    "plt.show()\n"
   ]
  },
  {
   "cell_type": "code",
   "execution_count": null,
   "id": "b8942faf",
   "metadata": {},
   "outputs": [],
   "source": []
  }
 ],
 "metadata": {
  "kernelspec": {
   "display_name": "Python 3",
   "language": "python",
   "name": "python3"
  },
  "language_info": {
   "codemirror_mode": {
    "name": "ipython",
    "version": 3
   },
   "file_extension": ".py",
   "mimetype": "text/x-python",
   "name": "python",
   "nbconvert_exporter": "python",
   "pygments_lexer": "ipython3",
   "version": "3.12.2"
  }
 },
 "nbformat": 4,
 "nbformat_minor": 5
}
